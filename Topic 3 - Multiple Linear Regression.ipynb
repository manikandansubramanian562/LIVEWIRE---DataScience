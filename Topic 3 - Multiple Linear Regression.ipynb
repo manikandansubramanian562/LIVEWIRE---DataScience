{
 "cells": [
  {
   "cell_type": "code",
   "execution_count": 1,
   "metadata": {},
   "outputs": [],
   "source": [
    "import numpy as np #Import Libraries\n",
    "import pandas as pd\n",
    "import matplotlib.pyplot as plt\n",
    "from sklearn.linear_model import LinearRegression\n",
    "from sklearn.model_selection import train_test_split"
   ]
  },
  {
   "cell_type": "code",
   "execution_count": 2,
   "metadata": {},
   "outputs": [],
   "source": [
    "df = pd.read_csv(\"HousePrice.csv\") # Housing Price Dataset"
   ]
  },
  {
   "cell_type": "code",
   "execution_count": 3,
   "metadata": {},
   "outputs": [
    {
     "data": {
      "text/html": [
       "<div>\n",
       "<style scoped>\n",
       "    .dataframe tbody tr th:only-of-type {\n",
       "        vertical-align: middle;\n",
       "    }\n",
       "\n",
       "    .dataframe tbody tr th {\n",
       "        vertical-align: top;\n",
       "    }\n",
       "\n",
       "    .dataframe thead th {\n",
       "        text-align: right;\n",
       "    }\n",
       "</style>\n",
       "<table border=\"1\" class=\"dataframe\">\n",
       "  <thead>\n",
       "    <tr style=\"text-align: right;\">\n",
       "      <th></th>\n",
       "      <th>Date</th>\n",
       "      <th>Price (All)</th>\n",
       "      <th>Change (All)</th>\n",
       "      <th>Price (New)</th>\n",
       "      <th>Change (New)</th>\n",
       "      <th>Price (Modern)</th>\n",
       "      <th>Change (Modern)</th>\n",
       "      <th>Price (Older)</th>\n",
       "      <th>Change (Older)</th>\n",
       "    </tr>\n",
       "  </thead>\n",
       "  <tbody>\n",
       "    <tr>\n",
       "      <th>0</th>\n",
       "      <td>1952-11-01</td>\n",
       "      <td>1891</td>\n",
       "      <td>0.0</td>\n",
       "      <td>2107</td>\n",
       "      <td>0.0</td>\n",
       "      <td>2020</td>\n",
       "      <td>0.0</td>\n",
       "      <td>1524</td>\n",
       "      <td>0.0</td>\n",
       "    </tr>\n",
       "    <tr>\n",
       "      <th>1</th>\n",
       "      <td>1953-02-01</td>\n",
       "      <td>1891</td>\n",
       "      <td>0.0</td>\n",
       "      <td>2107</td>\n",
       "      <td>0.0</td>\n",
       "      <td>2002</td>\n",
       "      <td>0.0</td>\n",
       "      <td>1542</td>\n",
       "      <td>0.0</td>\n",
       "    </tr>\n",
       "    <tr>\n",
       "      <th>2</th>\n",
       "      <td>1953-05-01</td>\n",
       "      <td>1891</td>\n",
       "      <td>0.0</td>\n",
       "      <td>2107</td>\n",
       "      <td>0.0</td>\n",
       "      <td>2002</td>\n",
       "      <td>0.0</td>\n",
       "      <td>1542</td>\n",
       "      <td>0.0</td>\n",
       "    </tr>\n",
       "    <tr>\n",
       "      <th>3</th>\n",
       "      <td>1953-08-01</td>\n",
       "      <td>1881</td>\n",
       "      <td>0.0</td>\n",
       "      <td>2117</td>\n",
       "      <td>0.0</td>\n",
       "      <td>2002</td>\n",
       "      <td>0.0</td>\n",
       "      <td>1524</td>\n",
       "      <td>0.0</td>\n",
       "    </tr>\n",
       "    <tr>\n",
       "      <th>4</th>\n",
       "      <td>1953-11-01</td>\n",
       "      <td>1872</td>\n",
       "      <td>-1.0</td>\n",
       "      <td>2117</td>\n",
       "      <td>0.5</td>\n",
       "      <td>1975</td>\n",
       "      <td>-2.2</td>\n",
       "      <td>1542</td>\n",
       "      <td>1.2</td>\n",
       "    </tr>\n",
       "  </tbody>\n",
       "</table>\n",
       "</div>"
      ],
      "text/plain": [
       "         Date  Price (All)  Change (All)  Price (New)  Change (New)  \\\n",
       "0  1952-11-01         1891           0.0         2107           0.0   \n",
       "1  1953-02-01         1891           0.0         2107           0.0   \n",
       "2  1953-05-01         1891           0.0         2107           0.0   \n",
       "3  1953-08-01         1881           0.0         2117           0.0   \n",
       "4  1953-11-01         1872          -1.0         2117           0.5   \n",
       "\n",
       "   Price (Modern)  Change (Modern)  Price (Older)  Change (Older)  \n",
       "0            2020              0.0           1524             0.0  \n",
       "1            2002              0.0           1542             0.0  \n",
       "2            2002              0.0           1542             0.0  \n",
       "3            2002              0.0           1524             0.0  \n",
       "4            1975             -2.2           1542             1.2  "
      ]
     },
     "execution_count": 3,
     "metadata": {},
     "output_type": "execute_result"
    }
   ],
   "source": [
    "df.head()"
   ]
  },
  {
   "cell_type": "code",
   "execution_count": 4,
   "metadata": {},
   "outputs": [
    {
     "data": {
      "text/html": [
       "<div>\n",
       "<style scoped>\n",
       "    .dataframe tbody tr th:only-of-type {\n",
       "        vertical-align: middle;\n",
       "    }\n",
       "\n",
       "    .dataframe tbody tr th {\n",
       "        vertical-align: top;\n",
       "    }\n",
       "\n",
       "    .dataframe thead th {\n",
       "        text-align: right;\n",
       "    }\n",
       "</style>\n",
       "<table border=\"1\" class=\"dataframe\">\n",
       "  <thead>\n",
       "    <tr style=\"text-align: right;\">\n",
       "      <th></th>\n",
       "      <th>Price (All)</th>\n",
       "      <th>Change (All)</th>\n",
       "      <th>Price (New)</th>\n",
       "      <th>Change (New)</th>\n",
       "      <th>Price (Modern)</th>\n",
       "      <th>Change (Modern)</th>\n",
       "      <th>Price (Older)</th>\n",
       "      <th>Change (Older)</th>\n",
       "    </tr>\n",
       "  </thead>\n",
       "  <tbody>\n",
       "    <tr>\n",
       "      <th>count</th>\n",
       "      <td>261.000000</td>\n",
       "      <td>261.000000</td>\n",
       "      <td>261.000000</td>\n",
       "      <td>261.000000</td>\n",
       "      <td>261.000000</td>\n",
       "      <td>261.000000</td>\n",
       "      <td>261.000000</td>\n",
       "      <td>261.000000</td>\n",
       "    </tr>\n",
       "    <tr>\n",
       "      <th>mean</th>\n",
       "      <td>60019.827586</td>\n",
       "      <td>7.849042</td>\n",
       "      <td>65825.655172</td>\n",
       "      <td>7.757088</td>\n",
       "      <td>50620.252874</td>\n",
       "      <td>7.467433</td>\n",
       "      <td>50376.616858</td>\n",
       "      <td>8.103831</td>\n",
       "    </tr>\n",
       "    <tr>\n",
       "      <th>std</th>\n",
       "      <td>66028.310182</td>\n",
       "      <td>9.029825</td>\n",
       "      <td>68742.228293</td>\n",
       "      <td>8.784208</td>\n",
       "      <td>57065.010315</td>\n",
       "      <td>9.221232</td>\n",
       "      <td>60743.061642</td>\n",
       "      <td>9.356983</td>\n",
       "    </tr>\n",
       "    <tr>\n",
       "      <th>min</th>\n",
       "      <td>1853.000000</td>\n",
       "      <td>-16.500000</td>\n",
       "      <td>2107.000000</td>\n",
       "      <td>-16.300000</td>\n",
       "      <td>0.000000</td>\n",
       "      <td>-16.600000</td>\n",
       "      <td>0.000000</td>\n",
       "      <td>-17.400000</td>\n",
       "    </tr>\n",
       "    <tr>\n",
       "      <th>25%</th>\n",
       "      <td>4145.000000</td>\n",
       "      <td>2.400000</td>\n",
       "      <td>4657.000000</td>\n",
       "      <td>3.100000</td>\n",
       "      <td>3726.000000</td>\n",
       "      <td>1.300000</td>\n",
       "      <td>2958.000000</td>\n",
       "      <td>1.900000</td>\n",
       "    </tr>\n",
       "    <tr>\n",
       "      <th>50%</th>\n",
       "      <td>34174.000000</td>\n",
       "      <td>7.200000</td>\n",
       "      <td>43080.000000</td>\n",
       "      <td>6.600000</td>\n",
       "      <td>25537.000000</td>\n",
       "      <td>6.600000</td>\n",
       "      <td>22030.000000</td>\n",
       "      <td>7.500000</td>\n",
       "    </tr>\n",
       "    <tr>\n",
       "      <th>75%</th>\n",
       "      <td>91049.000000</td>\n",
       "      <td>10.900000</td>\n",
       "      <td>101312.000000</td>\n",
       "      <td>10.600000</td>\n",
       "      <td>67183.000000</td>\n",
       "      <td>10.900000</td>\n",
       "      <td>63751.000000</td>\n",
       "      <td>12.000000</td>\n",
       "    </tr>\n",
       "    <tr>\n",
       "      <th>max</th>\n",
       "      <td>211672.000000</td>\n",
       "      <td>42.400000</td>\n",
       "      <td>233723.000000</td>\n",
       "      <td>46.200000</td>\n",
       "      <td>179358.000000</td>\n",
       "      <td>41.200000</td>\n",
       "      <td>201008.000000</td>\n",
       "      <td>43.200000</td>\n",
       "    </tr>\n",
       "  </tbody>\n",
       "</table>\n",
       "</div>"
      ],
      "text/plain": [
       "         Price (All)  Change (All)    Price (New)  Change (New)  \\\n",
       "count     261.000000    261.000000     261.000000    261.000000   \n",
       "mean    60019.827586      7.849042   65825.655172      7.757088   \n",
       "std     66028.310182      9.029825   68742.228293      8.784208   \n",
       "min      1853.000000    -16.500000    2107.000000    -16.300000   \n",
       "25%      4145.000000      2.400000    4657.000000      3.100000   \n",
       "50%     34174.000000      7.200000   43080.000000      6.600000   \n",
       "75%     91049.000000     10.900000  101312.000000     10.600000   \n",
       "max    211672.000000     42.400000  233723.000000     46.200000   \n",
       "\n",
       "       Price (Modern)  Change (Modern)  Price (Older)  Change (Older)  \n",
       "count      261.000000       261.000000     261.000000      261.000000  \n",
       "mean     50620.252874         7.467433   50376.616858        8.103831  \n",
       "std      57065.010315         9.221232   60743.061642        9.356983  \n",
       "min          0.000000       -16.600000       0.000000      -17.400000  \n",
       "25%       3726.000000         1.300000    2958.000000        1.900000  \n",
       "50%      25537.000000         6.600000   22030.000000        7.500000  \n",
       "75%      67183.000000        10.900000   63751.000000       12.000000  \n",
       "max     179358.000000        41.200000  201008.000000       43.200000  "
      ]
     },
     "execution_count": 4,
     "metadata": {},
     "output_type": "execute_result"
    }
   ],
   "source": [
    "df.describe() #Descriptive Statistics"
   ]
  },
  {
   "cell_type": "code",
   "execution_count": 10,
   "metadata": {},
   "outputs": [],
   "source": [
    "df = df.drop(['Date'],axis=1)"
   ]
  },
  {
   "cell_type": "code",
   "execution_count": 11,
   "metadata": {},
   "outputs": [],
   "source": [
    "X=df.iloc[:,:-1].values\n",
    "Y=df.iloc[:,7].values"
   ]
  },
  {
   "cell_type": "code",
   "execution_count": 12,
   "metadata": {},
   "outputs": [],
   "source": [
    "X_train, X_test, y_train, y_test = train_test_split(X, Y, test_size=0.2, random_state=42) #Spliting training and test data"
   ]
  },
  {
   "cell_type": "code",
   "execution_count": 13,
   "metadata": {},
   "outputs": [],
   "source": [
    "regressor = LinearRegression() "
   ]
  },
  {
   "cell_type": "code",
   "execution_count": 14,
   "metadata": {},
   "outputs": [
    {
     "data": {
      "text/plain": [
       "LinearRegression(copy_X=True, fit_intercept=True, n_jobs=None,\n",
       "         normalize=False)"
      ]
     },
     "execution_count": 14,
     "metadata": {},
     "output_type": "execute_result"
    }
   ],
   "source": [
    "regressor.fit(X_train,y_train) #Fit the training data"
   ]
  },
  {
   "cell_type": "code",
   "execution_count": 15,
   "metadata": {},
   "outputs": [],
   "source": [
    "y_pred = regressor.predict(X_test) #y_prediction"
   ]
  },
  {
   "cell_type": "code",
   "execution_count": 16,
   "metadata": {},
   "outputs": [
    {
     "data": {
      "text/plain": [
       "0.9863837442462788"
      ]
     },
     "execution_count": 16,
     "metadata": {},
     "output_type": "execute_result"
    }
   ],
   "source": [
    "regressor.score(X_test,y_test) #Regressor score for test data"
   ]
  },
  {
   "cell_type": "code",
   "execution_count": null,
   "metadata": {},
   "outputs": [],
   "source": []
  }
 ],
 "metadata": {
  "kernelspec": {
   "display_name": "Python 3",
   "language": "python",
   "name": "python3"
  },
  "language_info": {
   "codemirror_mode": {
    "name": "ipython",
    "version": 3
   },
   "file_extension": ".py",
   "mimetype": "text/x-python",
   "name": "python",
   "nbconvert_exporter": "python",
   "pygments_lexer": "ipython3",
   "version": "3.7.3"
  }
 },
 "nbformat": 4,
 "nbformat_minor": 2
}
